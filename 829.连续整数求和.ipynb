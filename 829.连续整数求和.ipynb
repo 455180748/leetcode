{
 "cells": [
  {
   "cell_type": "markdown",
   "metadata": {},
   "source": [
    "# 829. 连续整数求和"
   ]
  },
  {
   "cell_type": "markdown",
   "metadata": {},
   "source": [
    "给定一个正整数 N，试求有多少组连续正整数满足所有数字之和为 N?\n",
    "\n"
   ]
  },
  {
   "cell_type": "markdown",
   "metadata": {},
   "source": [
    "设满足情况时，连续正整数的首项为a,项数为n。\n",
    "\n",
    "等差数列公式 $an + \\frac {n(n-1)} {2} = N$\n",
    "\n",
    "通过变形可得 $a =  \\frac{N-\\frac{n(n-1)}{2}}{n}$\n",
    "\n",
    "a是正整数，所有等式右边也要是正整数\n",
    "\n",
    "循环变量从1开始，循环条件$N-\\frac{n(n-1)}{2}>0$\n",
    "\n",
    "```\n",
    "int consecutiveNumbersSum(int N) {\n",
    "    int res = 0;\n",
    "    for(int n = 1; N-n*(n-1)/2 > 0; n++) {\n",
    "        if ( (N-n*(n-1)/2) % n == 0)\n",
    "            res++;\n",
    "    }\n",
    "    return res;\n",
    "}\n",
    "\n",
    "```"
   ]
  },
  {
   "cell_type": "markdown",
   "metadata": {},
   "source": [
    "观察取余操作的分子，变化规律只与n有关。\n",
    "\n",
    "第n+1项  $N-\\frac{(n+1)n}{2}$\n",
    "\n",
    "第n项     $N-\\frac{n(n-1)}{2}$\n",
    "\n",
    "第n+1项-第n项结果为n\n",
    "\n",
    "初始时分子为N，分母n=1。\n",
    "N每次递减n，之后n--\n",
    "\n",
    "```\n",
    "int consecutiveNumbersSum(int N) {\n",
    "    int res = 0;\n",
    "    for(int n = 1; N > 0; n++) {\n",
    "        if ( N % n == 0)\n",
    "            res++;\n",
    "        N-=n;\n",
    "    }\n",
    "    return res;\n",
    "}\n",
    "```\n"
   ]
  },
  {
   "cell_type": "markdown",
   "metadata": {},
   "source": []
  }
 ],
 "metadata": {
  "kernelspec": {
   "display_name": "Python 3",
   "language": "python",
   "name": "python3"
  },
  "language_info": {
   "codemirror_mode": {
    "name": "ipython",
    "version": 3
   },
   "file_extension": ".py",
   "mimetype": "text/x-python",
   "name": "python",
   "nbconvert_exporter": "python",
   "pygments_lexer": "ipython3",
   "version": "3.7.2"
  }
 },
 "nbformat": 4,
 "nbformat_minor": 2
}
